{
 "cells": [
  {
   "cell_type": "markdown",
   "metadata": {},
   "source": [
    "# Minimal dummy example with ictdeploy\n",
    "## Creating a co-simulation graph\n",
    "We consider the following two nodes graph as a minimal dummy example of two nodes exchanging a variable and randomly add or substract a given value from it:\n",
    "\n",
    "<img src=\"./figures/model.png\" alt=\"Model\" style=\"width: 500px;\"/>\n",
    "\n",
    "The above graph can be created using ictdeploy as follow:"
   ]
  },
  {
   "cell_type": "code",
   "execution_count": 1,
   "metadata": {},
   "outputs": [],
   "source": [
    "import os\n",
    "from ictdeploy import Simulator as Sim"
   ]
  },
  {
   "cell_type": "code",
   "execution_count": 2,
   "metadata": {},
   "outputs": [],
   "source": [
    "#create empty simulator\n",
    "sim = Sim()"
   ]
  },
  {
   "cell_type": "code",
   "execution_count": 3,
   "metadata": {},
   "outputs": [
    {
     "data": {
      "text/plain": [
       "'BaseMeta'"
      ]
     },
     "execution_count": 3,
     "metadata": {},
     "output_type": "execute_result"
    }
   ],
   "source": [
    "#create Meta-model\n",
    "sim.edit.add_meta(\n",
    "        name=\"BaseMeta\",\n",
    "        set_attrs=[\"sou.T_in\"],\n",
    "        get_attrs=[\"senTemOut.T\"]\n",
    "    )"
   ]
  },
  {
   "cell_type": "code",
   "execution_count": 4,
   "metadata": {},
   "outputs": [
    {
     "data": {
      "text/plain": [
       "'Base2Meta'"
      ]
     },
     "execution_count": 4,
     "metadata": {},
     "output_type": "execute_result"
    }
   ],
   "source": [
    "#create Meta-model\n",
    "sim.edit.add_meta(\n",
    "        name=\"Base2Meta\",\n",
    "        set_attrs=[\"Tsupply\"],\n",
    "        get_attrs=[\"Tindoor\"]\n",
    "    )"
   ]
  },
  {
   "cell_type": "code",
   "execution_count": 5,
   "metadata": {},
   "outputs": [
    {
     "data": {
      "text/plain": [
       "'BaseModel'"
      ]
     },
     "execution_count": 5,
     "metadata": {},
     "output_type": "execute_result"
    }
   ],
   "source": [
    "#create Model\n",
    "sim.edit.add_model(\n",
    "        name=\"BaseModel\",\n",
    "        meta=\"BaseMeta\",\n",
    "        image=\"\",\n",
    "        wrapper=os.path.join(\"wrappers\", \"base_wrap.py\"),\n",
    "        command=None,\n",
    "        files=[os.path.join(\"files_to_add\", \"IBPSA_Fluid_FixedResistances_Examples_PlugFlowPipe.fmu\")]\n",
    "    )"
   ]
  },
  {
   "cell_type": "code",
   "execution_count": 6,
   "metadata": {},
   "outputs": [
    {
     "data": {
      "text/plain": [
       "'Base2Model'"
      ]
     },
     "execution_count": 6,
     "metadata": {},
     "output_type": "execute_result"
    }
   ],
   "source": [
    "#create Model\n",
    "sim.edit.add_model(\n",
    "        name=\"Base2Model\",\n",
    "        meta=\"Base2Meta\",\n",
    "        image=\"integrcity/ict-simple\",\n",
    "        wrapper=os.path.join(\"wrappers\", \"building_wrap.py\"),\n",
    "        command=None,\n",
    "        files=[os.path.join(\"files_to_add\", \"empty_file.txt\")]\n",
    "    )"
   ]
  },
  {
   "cell_type": "markdown",
   "metadata": {},
   "source": [
    "Now that our `Meta-models` and `Models` have been created, we can populate our `Simulator` with `Nodes` as follow:"
   ]
  },
  {
   "cell_type": "code",
   "execution_count": 7,
   "metadata": {},
   "outputs": [
    {
     "data": {
      "text/plain": [
       "'Base0'"
      ]
     },
     "execution_count": 7,
     "metadata": {},
     "output_type": "execute_result"
    }
   ],
   "source": [
    "#add node\n",
    "sim.edit.add_node(\n",
    "        name=\"Base0\",\n",
    "        model=\"BaseModel\",\n",
    "        init_values={},\n",
    "        is_first=True,\n",
    "        is_local=True\n",
    "    )"
   ]
  },
  {
   "cell_type": "code",
   "execution_count": 8,
   "metadata": {},
   "outputs": [
    {
     "data": {
      "text/plain": [
       "'Base1'"
      ]
     },
     "execution_count": 8,
     "metadata": {},
     "output_type": "execute_result"
    }
   ],
   "source": [
    "#add node\n",
    "sim.edit.add_node(\n",
    "        name=\"Base1\",\n",
    "        model=\"Base2Model\",\n",
    "        init_values={}        \n",
    "    )"
   ]
  },
  {
   "cell_type": "markdown",
   "metadata": {},
   "source": [
    "And add `Links` between the created `Nodes` as follow:"
   ]
  },
  {
   "cell_type": "code",
   "execution_count": 9,
   "metadata": {},
   "outputs": [],
   "source": [
    "sim.edit.add_link(get_node=\"Base0\", get_attr=\"senTemOut.T\", set_node=\"Base1\", set_attr=\"Tsupply\")\n",
    "sim.edit.add_link(get_node=\"Base1\", get_attr=\"Tindoor\", set_node=\"Base0\", set_attr=\"sou.T_in\")"
   ]
  },
  {
   "cell_type": "markdown",
   "metadata": {},
   "source": [
    "## Data structure\n",
    "The created co-simulation graph can be described by the following tables, gathering information about `Nodes` and `Links`."
   ]
  },
  {
   "cell_type": "code",
   "execution_count": 10,
   "metadata": {},
   "outputs": [
    {
     "data": {
      "text/html": [
       "<div>\n",
       "<style scoped>\n",
       "    .dataframe tbody tr th:only-of-type {\n",
       "        vertical-align: middle;\n",
       "    }\n",
       "\n",
       "    .dataframe tbody tr th {\n",
       "        vertical-align: top;\n",
       "    }\n",
       "\n",
       "    .dataframe thead th {\n",
       "        text-align: right;\n",
       "    }\n",
       "</style>\n",
       "<table border=\"1\" class=\"dataframe\">\n",
       "  <thead>\n",
       "    <tr style=\"text-align: right;\">\n",
       "      <th></th>\n",
       "      <th>meta</th>\n",
       "      <th>model</th>\n",
       "      <th>to_set</th>\n",
       "      <th>to_get</th>\n",
       "      <th>image</th>\n",
       "      <th>wrapper</th>\n",
       "      <th>files</th>\n",
       "      <th>command</th>\n",
       "      <th>init_values</th>\n",
       "      <th>is_first</th>\n",
       "      <th>is_local</th>\n",
       "    </tr>\n",
       "  </thead>\n",
       "  <tbody>\n",
       "    <tr>\n",
       "      <th>Base0</th>\n",
       "      <td>BaseMeta</td>\n",
       "      <td>BaseModel</td>\n",
       "      <td>[sou.T_in]</td>\n",
       "      <td>[senTemOut.T]</td>\n",
       "      <td></td>\n",
       "      <td>wrappers\\base_wrap.py</td>\n",
       "      <td>[files_to_add\\IBPSA_Fluid_FixedResistances_Exa...</td>\n",
       "      <td>None</td>\n",
       "      <td>{}</td>\n",
       "      <td>True</td>\n",
       "      <td>True</td>\n",
       "    </tr>\n",
       "    <tr>\n",
       "      <th>Base1</th>\n",
       "      <td>Base2Meta</td>\n",
       "      <td>Base2Model</td>\n",
       "      <td>[Tsupply]</td>\n",
       "      <td>[Tindoor]</td>\n",
       "      <td>integrcity/ict-simple</td>\n",
       "      <td>wrappers\\building_wrap.py</td>\n",
       "      <td>[files_to_add\\empty_file.txt]</td>\n",
       "      <td>None</td>\n",
       "      <td>{}</td>\n",
       "      <td>False</td>\n",
       "      <td>False</td>\n",
       "    </tr>\n",
       "  </tbody>\n",
       "</table>\n",
       "</div>"
      ],
      "text/plain": [
       "            meta       model      to_set         to_get  \\\n",
       "Base0   BaseMeta   BaseModel  [sou.T_in]  [senTemOut.T]   \n",
       "Base1  Base2Meta  Base2Model   [Tsupply]      [Tindoor]   \n",
       "\n",
       "                       image                    wrapper  \\\n",
       "Base0                             wrappers\\base_wrap.py   \n",
       "Base1  integrcity/ict-simple  wrappers\\building_wrap.py   \n",
       "\n",
       "                                                   files command init_values  \\\n",
       "Base0  [files_to_add\\IBPSA_Fluid_FixedResistances_Exa...    None          {}   \n",
       "Base1                      [files_to_add\\empty_file.txt]    None          {}   \n",
       "\n",
       "       is_first  is_local  \n",
       "Base0      True      True  \n",
       "Base1     False     False  "
      ]
     },
     "execution_count": 10,
     "metadata": {},
     "output_type": "execute_result"
    }
   ],
   "source": [
    "sim.edit.nodes"
   ]
  },
  {
   "cell_type": "code",
   "execution_count": 11,
   "metadata": {},
   "outputs": [
    {
     "data": {
      "text/html": [
       "<div>\n",
       "<style scoped>\n",
       "    .dataframe tbody tr th:only-of-type {\n",
       "        vertical-align: middle;\n",
       "    }\n",
       "\n",
       "    .dataframe tbody tr th {\n",
       "        vertical-align: top;\n",
       "    }\n",
       "\n",
       "    .dataframe thead th {\n",
       "        text-align: right;\n",
       "    }\n",
       "</style>\n",
       "<table border=\"1\" class=\"dataframe\">\n",
       "  <thead>\n",
       "    <tr style=\"text-align: right;\">\n",
       "      <th></th>\n",
       "      <th>get_attr</th>\n",
       "      <th>get_node</th>\n",
       "      <th>set_attr</th>\n",
       "      <th>set_node</th>\n",
       "    </tr>\n",
       "  </thead>\n",
       "  <tbody>\n",
       "    <tr>\n",
       "      <th>0</th>\n",
       "      <td>senTemOut.T</td>\n",
       "      <td>Base0</td>\n",
       "      <td>Tsupply</td>\n",
       "      <td>Base1</td>\n",
       "    </tr>\n",
       "    <tr>\n",
       "      <th>1</th>\n",
       "      <td>Tindoor</td>\n",
       "      <td>Base1</td>\n",
       "      <td>sou.T_in</td>\n",
       "      <td>Base0</td>\n",
       "    </tr>\n",
       "  </tbody>\n",
       "</table>\n",
       "</div>"
      ],
      "text/plain": [
       "      get_attr get_node  set_attr set_node\n",
       "0  senTemOut.T    Base0   Tsupply    Base1\n",
       "1      Tindoor    Base1  sou.T_in    Base0"
      ]
     },
     "execution_count": 11,
     "metadata": {},
     "output_type": "execute_result"
    }
   ],
   "source": [
    "sim.edit.links"
   ]
  },
  {
   "cell_type": "markdown",
   "metadata": {},
   "source": [
    "## Simulation parameters\n",
    "Based on the created co-simulation graph, we can now create `Groups`, `Sequence` and `Steps` for the simulation as follow:"
   ]
  },
  {
   "cell_type": "code",
   "execution_count": 12,
   "metadata": {},
   "outputs": [],
   "source": [
    "grp0 = sim.create_group(\"Base0\")\n",
    "grp1 = sim.create_group(\"Base1\")"
   ]
  },
  {
   "cell_type": "code",
   "execution_count": 13,
   "metadata": {},
   "outputs": [],
   "source": [
    "sim.create_sequence(grp0, grp1)\n",
    "sim.create_steps([60] * 60)"
   ]
  },
  {
   "cell_type": "markdown",
   "metadata": {},
   "source": [
    "## Running simulation\n",
    "Everything is ready, we just have to run the simulation using `Simulator.run_simulation()`"
   ]
  },
  {
   "cell_type": "code",
   "execution_count": 14,
   "metadata": {},
   "outputs": [],
   "source": [
    "logs = sim.run_simulation(server=\"server.py\")"
   ]
  },
  {
   "cell_type": "code",
   "execution_count": 15,
   "metadata": {},
   "outputs": [
    {
     "name": "stdout",
     "output_type": "stream",
     "text": [
      "python base_wrap.py localhost Base0 init_values.json --i=sou.T_in --o=senTemOut.T --first\n"
     ]
    }
   ],
   "source": [
    "print(logs[\"nodes\"][\"Base0\"].replace(\"172.17.01\", \"localhost\"))"
   ]
  },
  {
   "cell_type": "code",
   "execution_count": 16,
   "metadata": {
    "scrolled": true
   },
   "outputs": [
    {
     "name": "stdout",
     "output_type": "stream",
     "text": [
      "INFO - 2018-06-29 10:20:38,205 - Connected to 172.17.01/obnl_vhost\n",
      "INFO - 2018-06-29 10:20:38,235 - scheduler initialised.\n",
      "INFO - 2018-06-29 10:20:38,721 - Simulator Base1 is connected.\n",
      "INFO - 2018-06-29 10:20:47,450 - Simulator Base0 is connected.\n",
      "INFO - 2018-06-29 10:20:47,451 - Start simulation.\n",
      "INFO - 2018-06-29 10:20:49,179 - Simulation finished. Execution time: 1.7279179096221924 seconds\n"
     ]
    }
   ],
   "source": [
    "for l in sim.get_logs(logs[\"orc\"]):\n",
    "    if \"INFO\" in l:\n",
    "        print(l)"
   ]
  },
  {
   "cell_type": "markdown",
   "metadata": {},
   "source": [
    "## Retrieving results\n",
    "Now that the simulation is finished, we can connect to the database of results and list all the available stored values as follow:"
   ]
  },
  {
   "cell_type": "code",
   "execution_count": 17,
   "metadata": {},
   "outputs": [
    {
     "data": {
      "text/html": [
       "<div>\n",
       "<style scoped>\n",
       "    .dataframe tbody tr th:only-of-type {\n",
       "        vertical-align: middle;\n",
       "    }\n",
       "\n",
       "    .dataframe tbody tr th {\n",
       "        vertical-align: top;\n",
       "    }\n",
       "\n",
       "    .dataframe thead th {\n",
       "        text-align: right;\n",
       "    }\n",
       "</style>\n",
       "<table border=\"1\" class=\"dataframe\">\n",
       "  <thead>\n",
       "    <tr style=\"text-align: right;\">\n",
       "      <th></th>\n",
       "      <th>IN/OUT</th>\n",
       "      <th>Node</th>\n",
       "      <th>Attribute</th>\n",
       "    </tr>\n",
       "  </thead>\n",
       "  <tbody>\n",
       "    <tr>\n",
       "      <th>0</th>\n",
       "      <td>IN</td>\n",
       "      <td>Base1</td>\n",
       "      <td>Tsupply</td>\n",
       "    </tr>\n",
       "    <tr>\n",
       "      <th>1</th>\n",
       "      <td>IN</td>\n",
       "      <td>Base0</td>\n",
       "      <td>sou.T_in</td>\n",
       "    </tr>\n",
       "    <tr>\n",
       "      <th>2</th>\n",
       "      <td>OUT</td>\n",
       "      <td>Base0</td>\n",
       "      <td>senTemOut.T</td>\n",
       "    </tr>\n",
       "    <tr>\n",
       "      <th>3</th>\n",
       "      <td>OUT</td>\n",
       "      <td>Base1</td>\n",
       "      <td>Tindoor</td>\n",
       "    </tr>\n",
       "  </tbody>\n",
       "</table>\n",
       "</div>"
      ],
      "text/plain": [
       "  IN/OUT   Node    Attribute\n",
       "0     IN  Base1      Tsupply\n",
       "1     IN  Base0     sou.T_in\n",
       "2    OUT  Base0  senTemOut.T\n",
       "3    OUT  Base1      Tindoor"
      ]
     },
     "execution_count": 17,
     "metadata": {},
     "output_type": "execute_result"
    }
   ],
   "source": [
    "sim.results.connect_to_results_db(host=\"localhost\")\n",
    "sim.results.list_of_available_results"
   ]
  },
  {
   "cell_type": "markdown",
   "metadata": {},
   "source": [
    "Based on the preceding available stored values, we can choose wich results to get using a pattern matching the name of the selected values."
   ]
  },
  {
   "cell_type": "code",
   "execution_count": 18,
   "metadata": {},
   "outputs": [
    {
     "data": {
      "text/plain": [
       "dict_keys(['OUT||Base0||senTemOut.T', 'OUT||Base1||Tindoor'])"
      ]
     },
     "execution_count": 18,
     "metadata": {},
     "output_type": "execute_result"
    }
   ],
   "source": [
    "results = sim.results.get_results_by_pattern(\"OUT*\")\n",
    "results.keys()"
   ]
  },
  {
   "cell_type": "markdown",
   "metadata": {},
   "source": [
    "And finnaly, we plot the selected results using `matplotlib`."
   ]
  },
  {
   "cell_type": "code",
   "execution_count": 19,
   "metadata": {},
   "outputs": [],
   "source": [
    "import networkx as nx\n",
    "import matplotlib.pyplot as plt"
   ]
  },
  {
   "cell_type": "code",
   "execution_count": 20,
   "metadata": {},
   "outputs": [
    {
     "data": {
      "text/plain": [
       "<matplotlib.legend.Legend at 0x1f9c04c1978>"
      ]
     },
     "execution_count": 20,
     "metadata": {},
     "output_type": "execute_result"
    },
    {
     "data": {
      "image/png": "[encoded data removed]",
      "text/plain": [
       "<Figure size 648x432 with 1 Axes>"
      ]
     },
     "metadata": {},
     "output_type": "display_data"
    }
   ],
   "source": [
    "plt.figure(figsize=(9, 6))\n",
    "plt.plot(results['OUT||Base0||senTemOut.T'], \"-o\", label=\"Base0 - senTemOut.T\", alpha=0.5)\n",
    "plt.plot(results['OUT||Base1||Tindoor'], \"-o\", label=\"Base1 - Tindoor\", alpha=0.5)\n",
    "plt.legend()"
   ]
  }
 ],
 "metadata": {
  "kernelspec": {
   "display_name": "Python 3",
   "language": "python",
   "name": "python3"
  },
  "language_info": {
   "codemirror_mode": {
    "name": "ipython",
    "version": 3
   },
   "file_extension": ".py",
   "mimetype": "text/x-python",
   "name": "python",
   "nbconvert_exporter": "python",
   "pygments_lexer": "ipython3",
   "version": "3.6.5"
  }
 },
 "nbformat": 4,
 "nbformat_minor": 1
}
